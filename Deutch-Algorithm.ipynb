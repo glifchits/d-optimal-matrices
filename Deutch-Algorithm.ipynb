{
 "cells": [
  {
   "cell_type": "markdown",
   "metadata": {},
   "source": [
    "# Deutch Algorithm\n",
    "\n",
    "Given a function $f(x)$ where $x = 0$ or $1$ and $f(x) = 0$ or $1$, we want to decide whether $f(x)$ is **constant** or **balanced**.\n",
    "\n",
    "* **constant** means that $f(0) = f(1)$\n",
    "* **balanced** means that $f(0) \\neq f(1)$"
   ]
  },
  {
   "cell_type": "code",
   "execution_count": 1,
   "metadata": {
    "collapsed": true
   },
   "outputs": [],
   "source": [
    "from quantum import *\n",
    "\n",
    "def constant(x): return 0\n",
    "def balanced(x): return x\n",
    "\n",
    "TARGET_FUNC = constant"
   ]
  },
  {
   "cell_type": "markdown",
   "metadata": {},
   "source": [
    "Start with the $\\left|00\\right\\rangle$ state."
   ]
  },
  {
   "cell_type": "code",
   "execution_count": 2,
   "metadata": {
    "collapsed": false
   },
   "outputs": [
    {
     "name": "stdout",
     "output_type": "stream",
     "text": [
      "[[1]\n",
      " [0]\n",
      " [0]\n",
      " [0]]\n"
     ]
    }
   ],
   "source": [
    "state = Q(kron(zero, zero))\n",
    "print(state)"
   ]
  },
  {
   "cell_type": "markdown",
   "metadata": {},
   "source": [
    "Apply `X` to all qubits."
   ]
  },
  {
   "cell_type": "code",
   "execution_count": 3,
   "metadata": {
    "collapsed": false
   },
   "outputs": [
    {
     "name": "stdout",
     "output_type": "stream",
     "text": [
      "[[ 0.]\n",
      " [ 0.]\n",
      " [ 0.]\n",
      " [ 1.]]\n"
     ]
    }
   ],
   "source": [
    "for i in range(state.num_qubits):\n",
    "    state = state.apply_gate(X, i)\n",
    "print(state)"
   ]
  },
  {
   "cell_type": "markdown",
   "metadata": {},
   "source": [
    "Apply `H` to all qubits."
   ]
  },
  {
   "cell_type": "code",
   "execution_count": 4,
   "metadata": {
    "collapsed": false
   },
   "outputs": [
    {
     "name": "stdout",
     "output_type": "stream",
     "text": [
      "[[ 0.5+0.j]\n",
      " [-0.5+0.j]\n",
      " [-0.5+0.j]\n",
      " [ 0.5+0.j]]\n"
     ]
    }
   ],
   "source": [
    "for i in range(state.num_qubits):\n",
    "    state = state.apply_gate(H, i)\n",
    "print(state)"
   ]
  },
  {
   "cell_type": "markdown",
   "metadata": {},
   "source": [
    "Apply the function $f(x)$ with the unitary operator $U\\left|x\\right\\rangle\\left|y\\right\\rangle = \\left|x\\right\\rangle\\left|y \\oplus f(x)\\right\\rangle$"
   ]
  },
  {
   "cell_type": "code",
   "execution_count": 5,
   "metadata": {
    "collapsed": false
   },
   "outputs": [
    {
     "name": "stdout",
     "output_type": "stream",
     "text": [
      "[[ 0.5+0.j]\n",
      " [-0.5+0.j]\n",
      " [-0.5+0.j]\n",
      " [ 0.5+0.j]]\n"
     ]
    }
   ],
   "source": [
    "def apply_func(Qstate, func):\n",
    "    qubits = range(2 ** Qstate.num_qubits)\n",
    "    #print(\"state  (bin)   x    y    y^f(x)\")\n",
    "    state_matrix = Qstate.state\n",
    "    swapped = set([])\n",
    "    for current_state in qubits:\n",
    "        x = current_state >> 1  # all bits n-1\n",
    "        y = current_state & 1   # only bit 0\n",
    "        yfunc = y ^ func(x)\n",
    "        #print(\"{:5}   {:>4} {:>4} {:>4}   {:>4}\".format(current_state, bin(current_state), bin(x), bin(y), bin(yfunc)))\n",
    "        # the new state is the original `x` bits with the `y ^ f(x)` bit at the end\n",
    "        new_state = (x << 1) + yfunc\n",
    "        if (current_state, new_state) not in swapped:\n",
    "            state_matrix = row_swap(state_matrix, current_state, new_state)\n",
    "            swapped.add((current_state, new_state))\n",
    "            swapped.add((new_state, current_state))\n",
    "    return Q(state_matrix)\n",
    "\n",
    "state = apply_func(state, TARGET_FUNC)\n",
    "print(state)"
   ]
  },
  {
   "cell_type": "markdown",
   "metadata": {},
   "source": [
    "Perform a `H` on the last (1st) qubit."
   ]
  },
  {
   "cell_type": "code",
   "execution_count": 6,
   "metadata": {
    "collapsed": false
   },
   "outputs": [
    {
     "name": "stdout",
     "output_type": "stream",
     "text": [
      "[[ 0.00000000+0.j]\n",
      " [ 0.00000000+0.j]\n",
      " [ 0.70710678+0.j]\n",
      " [-0.70710678+0.j]]\n"
     ]
    }
   ],
   "source": [
    "state = state.apply_gate(H, 1)\n",
    "print(state)"
   ]
  },
  {
   "cell_type": "markdown",
   "metadata": {},
   "source": [
    "We measure the state and look at the value of the last qubit.\n",
    "\n",
    "* If $f(x)$ is constant, then the last qubit will always be 1.\n",
    "* If $f(x)$ is balanced, then the last qubit will always be 0."
   ]
  },
  {
   "cell_type": "code",
   "execution_count": 7,
   "metadata": {
    "collapsed": false
   },
   "outputs": [
    {
     "name": "stdout",
     "output_type": "stream",
     "text": [
      "The target function is constant.\n",
      "Last qubit measured as 1, therefore constant. (1000 occurrences = 100.00%)\n"
     ]
    }
   ],
   "source": [
    "TRIALS = 1000\n",
    "outcomes = {}\n",
    "for i in range(TRIALS):\n",
    "    measurement = state.measure()\n",
    "    outcomes[measurement] = outcomes.get(measurement, 0) + 1\n",
    "\n",
    "qubit1_outcomes = {}\n",
    "for (outcome, occurrences) in outcomes.items():\n",
    "    qubit1 = outcome >> 1\n",
    "    qubit1_outcomes[qubit1] = qubit1_outcomes.get(qubit1, 0) + occurrences\n",
    "\n",
    "print(\"The target function is {}.\".format(TARGET_FUNC.__name__))\n",
    "for (outcome, occurrences) in qubit1_outcomes.items():\n",
    "    if outcome == 1: result = \"constant\"\n",
    "    elif outcome == 0: result = \"balanced\"\n",
    "    print(\"Last qubit measured as {outcome}, therefore {result}. ({occurrences} occurrences = {success:.2f}%)\".format(\n",
    "        outcome=outcome, result=result, occurrences=occurrences, success=(occurrences*100/TRIALS))\n",
    "    )"
   ]
  }
 ],
 "metadata": {
  "kernelspec": {
   "display_name": "Python 3",
   "language": "python",
   "name": "python3"
  },
  "language_info": {
   "codemirror_mode": {
    "name": "ipython",
    "version": 3
   },
   "file_extension": ".py",
   "mimetype": "text/x-python",
   "name": "python",
   "nbconvert_exporter": "python",
   "pygments_lexer": "ipython3",
   "version": "3.5.0"
  }
 },
 "nbformat": 4,
 "nbformat_minor": 0
}

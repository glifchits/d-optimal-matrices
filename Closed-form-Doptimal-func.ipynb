{
 "cells": [
  {
   "cell_type": "markdown",
   "metadata": {},
   "source": [
    "# Grover's search for D-optimal sequences"
   ]
  },
  {
   "cell_type": "code",
   "execution_count": 23,
   "metadata": {
    "collapsed": false
   },
   "outputs": [],
   "source": [
    "import matplotlib\n",
    "from matplotlib import cm\n",
    "import matplotlib.pyplot as plt\n",
    "from mpl_toolkits.mplot3d import Axes3D\n",
    "%matplotlib notebook\n",
    "%config InlineBackend.figure_formats = {'png', 'retina'}\n",
    "matplotlib.rcParams['figure.figsize'] = (8.0, 5.0)\n",
    "\n",
    "from quantum import *\n",
    "from math import log, ceil, floor\n",
    "from lib import paf, psd\n",
    "\n",
    "\n",
    "# search for D-optimal sequences length=5\n",
    "seq_len = 9"
   ]
  },
  {
   "cell_type": "code",
   "execution_count": 24,
   "metadata": {
    "collapsed": true
   },
   "outputs": [],
   "source": [
    "def irange(start, end):\n",
    "    return range(start, end+1)\n",
    "\n",
    "def bits_to_seq(bitstring):\n",
    "    return [-1 if i == '0' else 1 for i in bitstring]\n",
    "\n",
    "def int_to_seq_pair(bitstring):\n",
    "    bitmask = (2 ** seq_len) - 1 # 111...1 (length = N)\n",
    "    # get first half of bitstring\n",
    "    first_half = (bitstring >> seq_len) & bitmask\n",
    "    # get second half\n",
    "    second_half = bitstring & bitmask\n",
    "    seq_A = bits_to_seq(\"{:0{width}b}\".format(first_half, width=seq_len))\n",
    "    seq_B = bits_to_seq(\"{:0{width}b}\".format(second_half, width=seq_len))\n",
    "    return (seq_A, seq_B)"
   ]
  },
  {
   "cell_type": "code",
   "execution_count": 25,
   "metadata": {
    "collapsed": true
   },
   "outputs": [],
   "source": [
    "def bitwise_and(integer):\n",
    "    \"\"\"\n",
    "    Performs AND on each individual bit of the binary representation of `integer`\n",
    "    \"\"\"\n",
    "    if integer == 0: return 0\n",
    "    result = 1\n",
    "    for i in range(int(log(integer, 2))):\n",
    "        bitmask = 0b1 << i\n",
    "        bit = (integer & bitmask) >> i\n",
    "        result = result & bit\n",
    "    return result"
   ]
  },
  {
   "cell_type": "code",
   "execution_count": 47,
   "metadata": {
    "collapsed": false
   },
   "outputs": [
    {
     "name": "stdout",
     "output_type": "stream",
     "text": [
      "found 3888 doptimal pairs length 9\n"
     ]
    }
   ],
   "source": [
    "def is_doptimal(integer):\n",
    "    A, B = int_to_seq_pair(integer)\n",
    "    m = (seq_len - 1) // 2\n",
    "    pafs = (paf(A, s) + paf(B, s) for s in irange(1, m))\n",
    "    # PAF(A,s) + PAF(B,s) = 4k + 2   (for int k, for s = 1..m)\n",
    "    # PAF(A,s) + PAF(B,s) = 2        (for A,B D-optimal)\n",
    "    # subtract 2 (so that =0 for D-opt) and square to make non-negative\n",
    "    S = sum((p - 2)**2 for p in pafs)\n",
    "    # now we have a positive integer for non-D-optimal pairs\n",
    "    # NOT then bitwise AND yields 1 if we had 0 (D-opt), otherwise yields 0\n",
    "    x = np.uint32(S**2)\n",
    "    return bitwise_and(~x)\n",
    "\n",
    "def correct_dopt(integer):\n",
    "    A, B = int_to_seq_pair(integer)\n",
    "    m = (seq_len - 1) // 2\n",
    "    pafs = (paf(A, s) + paf(B, s) for s in irange(1, m))\n",
    "    return all(pafsum == 2 for pafsum in pafs)\n",
    "\n",
    "from itertools import islice\n",
    "\n",
    "'''\n",
    "bad_dopts = (i for i in range(4 ** seq_len) if is_doptimal(i) == 1 and correct_dopt(i) == False)\n",
    "\n",
    "start = 500\n",
    "for i in list(islice(bad_dopts, start, start+12)):\n",
    "    a, b = int_to_seq_pair(i)\n",
    "    m = (seq_len - 1) // 2\n",
    "    pafsum = sum(paf(a, s) + paf(b, s) for s in irange(1, m))\n",
    "    print('a {} \\t b {} \\t pafsum={}  m={}'.format(a, b, pafsum, m))\n",
    "'''\n",
    "#dopt_ints = (i for i in range(4 ** seq_len) if correct_dopt(i))\n",
    "#for i in list(islice(dopt_ints, 6)) + [1,4,5,124,967335]:\n",
    "#    a,b = int_to_seq_pair(i)\n",
    "#    isdopt = is_doptimal(i)\n",
    "#    print('a', a, 'b', b, 'S', is_doptimal(i))\n",
    "\n",
    "\n",
    "dopt = [i for i in range(4 ** seq_len) if is_doptimal(i) == 1]\n",
    "print(\"found {} doptimal pairs length {}\".format(len(dopt), seq_len))"
   ]
  },
  {
   "cell_type": "markdown",
   "metadata": {
    "collapsed": false
   },
   "source": [
    "N = seq_len\n",
    "num_qubits = 2 * N\n",
    "\n",
    "# Set up quantum state.\n",
    "input_register = (zero for _ in range(num_qubits))\n",
    "state = Q(kron(*input_register, zero))\n",
    "\n",
    "# Apply HX to the output register.\n",
    "state = state.apply_gate(X, 0)\n",
    "state = state.apply_gate(H, 0)\n",
    "\n",
    "# Apply H^n to the input register.\n",
    "# input register: qubits 1 to n\n",
    "input_H = kron(*(H for _ in range(num_qubits)), I)\n",
    "state = state.apply_unitary(input_H)\n",
    "\n",
    "# First, we'll compute the diffusion operator.\n",
    "# this definition of D (the diffusion matrix aka. inversion about the mean)\n",
    "# is given in Grover's original paper\n",
    "P = 1/N * np.ones((N, N))\n",
    "D = kron(-np.eye(N) + 2*P, I)\n",
    "\n",
    "iterations = floor((np.pi/4) * sqrt(N).real)\n",
    "\n",
    "# Perform the Grover iteration,\n",
    "for i in irange(1, iterations):\n",
    "    state = state.apply_func(is_doptimal)\n",
    "    state = state.apply_unitary(D)\n",
    "\n",
    "to_row(state.state)"
   ]
  }
 ],
 "metadata": {
  "kernelspec": {
   "display_name": "Python 3",
   "language": "python",
   "name": "python3"
  },
  "language_info": {
   "codemirror_mode": {
    "name": "ipython",
    "version": 3
   },
   "file_extension": ".py",
   "mimetype": "text/x-python",
   "name": "python",
   "nbconvert_exporter": "python",
   "pygments_lexer": "ipython3",
   "version": "3.5.0"
  }
 },
 "nbformat": 4,
 "nbformat_minor": 0
}

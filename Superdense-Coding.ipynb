{
 "cells": [
  {
   "cell_type": "markdown",
   "metadata": {},
   "source": [
    "# Superdense coding"
   ]
  },
  {
   "cell_type": "code",
   "execution_count": 1,
   "metadata": {
    "collapsed": true
   },
   "outputs": [],
   "source": [
    "from quantum import *"
   ]
  },
  {
   "cell_type": "markdown",
   "metadata": {},
   "source": [
    "Alice and Bob start with an entangled pair. Alice owns qubit 1 (left) and Bob owns qubit 0 (right)."
   ]
  },
  {
   "cell_type": "code",
   "execution_count": 2,
   "metadata": {
    "collapsed": false
   },
   "outputs": [
    {
     "name": "stdout",
     "output_type": "stream",
     "text": [
      "[[ 0.70710678+0.j]\n",
      " [ 0.00000000+0.j]\n",
      " [ 0.00000000+0.j]\n",
      " [ 0.70710678+0.j]]\n"
     ]
    }
   ],
   "source": [
    "state = get_entangled_pair()\n",
    "ALICE = 1\n",
    "BOB = 0\n",
    "print(state)"
   ]
  },
  {
   "cell_type": "markdown",
   "metadata": {},
   "source": [
    "Alice can send a two-Cbit message. She prepares her qubit accordingly."
   ]
  },
  {
   "cell_type": "code",
   "execution_count": 3,
   "metadata": {
    "collapsed": false
   },
   "outputs": [
    {
     "name": "stdout",
     "output_type": "stream",
     "text": [
      "\n",
      "Alice is sending ab = 10\n",
      "\n",
      "[[ 0.70710678+0.j]\n",
      " [ 0.00000000+0.j]\n",
      " [ 0.00000000+0.j]\n",
      " [-0.70710678+0.j]]\n"
     ]
    }
   ],
   "source": [
    "# Alice sends message `ab` as defined.\n",
    "a, b = 1, 0\n",
    "\n",
    "# If a = 1, Alice applies Z to her qubit.\n",
    "if a == 1:\n",
    "    state = state.apply_gate(Z, ALICE)\n",
    "# If b = 1, Alice applies X to her qubit.\n",
    "if b == 1:\n",
    "    state = state.apply_gate(X, ALICE)\n",
    "\n",
    "print(\"\\nAlice is sending ab = {}{}\\n\".format(a, b))\n",
    "print(state)"
   ]
  },
  {
   "cell_type": "markdown",
   "metadata": {},
   "source": [
    "Alice sends her qubit to Bob.\n",
    "\n",
    "Now Bob applies the `CNOT` gate with Alice's qubit as control, his qubit as target."
   ]
  },
  {
   "cell_type": "code",
   "execution_count": 4,
   "metadata": {
    "collapsed": false
   },
   "outputs": [
    {
     "name": "stdout",
     "output_type": "stream",
     "text": [
      "[[ 0.70710678+0.j]\n",
      " [ 0.00000000+0.j]\n",
      " [-0.70710678+0.j]\n",
      " [ 0.00000000+0.j]]\n"
     ]
    }
   ],
   "source": [
    "state = state.apply_cnot(ALICE, BOB)\n",
    "print(state)"
   ]
  },
  {
   "cell_type": "markdown",
   "metadata": {},
   "source": [
    "Alice applies `H` on her qubit."
   ]
  },
  {
   "cell_type": "code",
   "execution_count": 5,
   "metadata": {
    "collapsed": false
   },
   "outputs": [
    {
     "name": "stdout",
     "output_type": "stream",
     "text": [
      "[[  1.01465364e-17+0.j]\n",
      " [  0.00000000e+00+0.j]\n",
      " [  1.00000000e+00+0.j]\n",
      " [  0.00000000e+00+0.j]]\n"
     ]
    }
   ],
   "source": [
    "state = state.apply_gate(H, ALICE)\n",
    "print(state)"
   ]
  },
  {
   "cell_type": "markdown",
   "metadata": {},
   "source": [
    "Bob measures the qubits to obtain the message `ab`."
   ]
  },
  {
   "cell_type": "code",
   "execution_count": 6,
   "metadata": {
    "collapsed": false
   },
   "outputs": [
    {
     "name": "stdout",
     "output_type": "stream",
     "text": [
      "Measured state = 0b10\n"
     ]
    }
   ],
   "source": [
    "measured = state.measure()\n",
    "print(\"Measured state =\", bin(measured))"
   ]
  }
 ],
 "metadata": {
  "kernelspec": {
   "display_name": "Python 3",
   "language": "python",
   "name": "python3"
  },
  "language_info": {
   "codemirror_mode": {
    "name": "ipython",
    "version": 3
   },
   "file_extension": ".py",
   "mimetype": "text/x-python",
   "name": "python",
   "nbconvert_exporter": "python",
   "pygments_lexer": "ipython3",
   "version": "3.5.0"
  }
 },
 "nbformat": 4,
 "nbformat_minor": 0
}

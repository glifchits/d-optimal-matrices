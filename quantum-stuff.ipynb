{
 "cells": [
  {
   "cell_type": "code",
   "execution_count": 2,
   "metadata": {
    "collapsed": true
   },
   "outputs": [],
   "source": [
    "import numpy as np\n",
    "from cmath import sqrt"
   ]
  },
  {
   "cell_type": "code",
   "execution_count": 3,
   "metadata": {
    "collapsed": true
   },
   "outputs": [],
   "source": [
    "ab = '10'"
   ]
  },
  {
   "cell_type": "code",
   "execution_count": 4,
   "metadata": {
    "collapsed": true
   },
   "outputs": [],
   "source": [
    "def invert_dict(d):\n",
    "    return {v:k for k,v in d.items()}"
   ]
  },
  {
   "cell_type": "code",
   "execution_count": 5,
   "metadata": {
    "collapsed": true
   },
   "outputs": [],
   "source": [
    "zero = np.matrix('1;0')\n",
    "one = np.matrix('0;1')"
   ]
  },
  {
   "cell_type": "code",
   "execution_count": 6,
   "metadata": {
    "collapsed": true
   },
   "outputs": [],
   "source": [
    "def kron(*matrices):\n",
    "    assert len(matrices) > 0, \"Cannot perform Kronecker product on no matrices\"\n",
    "    '''\n",
    "    r = matrices[0]\n",
    "    for mat in matrices[1:]:\n",
    "        r = np.kron(r, mat)\n",
    "    '''    \n",
    "    return reduce(np.kron, matrices[1:], matrices[0])"
   ]
  },
  {
   "cell_type": "code",
   "execution_count": 123,
   "metadata": {
    "collapsed": false
   },
   "outputs": [],
   "source": [
    "class Q(object):\n",
    "    \n",
    "    def __init__(self, prob_map=None):\n",
    "        # prob map keys are classical states\n",
    "        # prob map values are (complex) amplitudes\n",
    "        if prob_map is None:\n",
    "            prob_map = {zero: 1+0j}\n",
    "        err = abs(1 - sum(p**2 for p in prob_map.values()))\n",
    "        assert err < 0.00001, \"Squared amplitudes must sum to 1\"\n",
    "        self.prob_map = prob_map\n",
    "        \n",
    "    def __add__(self, other):\n",
    "        \"\"\" Superimposes two quantum states. \"\"\"\n",
    "        pself = self.prob_map\n",
    "        pother = other.prob_map\n",
    "        # the new set of state outcomes is the concatenation of both quantum states\n",
    "        states = pself.keys() + pother.keys()\n",
    "        # the new probability map is the sum of the amplitudes of each state\n",
    "        # (if the state is not existent in one map, its amplitude is 0)\n",
    "        pnew = {state: pself.get(state, 0) + pother.get(state, 0) for state in states}\n",
    "        # compute the normalization factor\n",
    "        norm_factor = sqrt(sum(p**2 for p in pnew.values()))\n",
    "        # compute the new probability map, with each amplitude divided by the norm factor\n",
    "        norm_pnew = {state: prob / norm_factor for (state, prob) in pnew.iteritems()}\n",
    "        return Q(norm_pnew)\n",
    "    \n",
    "    def apply_gate(self, gate):\n",
    "        \"\"\" Apply a gate to the current state. The given `gate` should be an nxn matrix\n",
    "        (where n is the number of qubits in the current state)\"\"\"\n",
    "        # what follows are a lot of sanity checks\n",
    "        gate_rows, gate_cols = gate.shape\n",
    "        assert gate_rows == gate_cols, \"Gate must be square\"\n",
    "        example_state = self.prob_map.iterkeys().next() # get one value (a state) out of the prob map\n",
    "        state_rows, state_cols = example_state.shape\n",
    "        assert state_cols == 1, \"Somehow, this state has more than one column\"\n",
    "        assert state_rows == gate_rows, \"Gate must have order equal to number of rows in the quantum state\"\n",
    "        # this is the actual computation of the new superposition\n",
    "        # we apply the gate (with matrix multiplication) to each state in the superposition\n",
    "        new_superposition = {gate * state: prob for (state, prob) in self.prob_map.iteritems()}\n",
    "        return Q(new_superposition)\n",
    "    \n",
    "    def __repr__(self):\n",
    "        it = []\n",
    "        \n",
    "        def simplify(num):\n",
    "            if type(num) == complex:\n",
    "                if num.imag == 0.0:\n",
    "                    num = num.real\n",
    "            if type(num) == float:\n",
    "                if num % 1.0 == 0.0:\n",
    "                    num = int(num)\n",
    "                else:\n",
    "                    num = round(num, 4)\n",
    "            return num\n",
    "    \n",
    "        for state in sorted(self.prob_map.keys(), key = lambda m: hash(m)):\n",
    "            prob = simplify(self.prob_map[state])\n",
    "            state_values = state.flatten().tolist()[0]\n",
    "            state_str = '; '.join(str(simplify(num)) for num in state_values)\n",
    "            it.append(\"{:}*[{:}]\".format(prob, state_str))\n",
    "        return \"<Q: {:}>\".format(' + '.join(it))\n"
   ]
  },
  {
   "cell_type": "code",
   "execution_count": 8,
   "metadata": {
    "collapsed": false
   },
   "outputs": [],
   "source": [
    "I = np.eye(2)\n",
    "X = np.matrix('0 1; 1 0')\n",
    "Z = np.matrix('1 0; 0 -1')\n",
    "H = 1/sqrt(2) * (X + Z)\n",
    "\n",
    "def get_entangled_pair():\n",
    "    return Q({\n",
    "        kron(zero, zero): 1/sqrt(2),\n",
    "        kron(one, one): 1/sqrt(2)\n",
    "    })"
   ]
  },
  {
   "cell_type": "code",
   "execution_count": 9,
   "metadata": {
    "collapsed": false
   },
   "outputs": [],
   "source": [
    "def gate_deprecated(unitary, size, qubit_index):\n",
    "    \"\"\" Given a 2x2 gate (`unitary`), this generates a matrix which is the identity matrix of order `size`\n",
    "    except for the 2x2 area corresponding to the desired qubit index. \"\"\"\n",
    "    eye = (1+0j) * np.eye(size)\n",
    "    idx = qubit_index\n",
    "    eye[np.ix_([idx, idx+1], [idx, idx+1])] = unitary\n",
    "    return eye\n",
    "\n",
    "def gate(qubits, unitary, qubit_index):\n",
    "    gate_seq = [unitary if idx == qubit_index else I for idx in range(qubits)]\n",
    "    return kron(*gate_seq)"
   ]
  },
  {
   "cell_type": "code",
   "execution_count": 10,
   "metadata": {
    "collapsed": false
   },
   "outputs": [],
   "source": [
    "def cnot(qubits, control_qubit_index, target_qubit_index):\n",
    "    return gate(X, qubits * 2, target_qubit_index * 2)\n",
    "\n",
    "cnot_10 = np.matrix('1 0 0 0; 0 1 0 0; 0 0 0 1; 0 0 1 0', dtype=complex)\n",
    "cnot_01 = np.matrix('1 0 0 0; 0 0 0 1; 0 0 1 0; 0 1 0 0', dtype=complex)"
   ]
  },
  {
   "cell_type": "code",
   "execution_count": 124,
   "metadata": {
    "collapsed": false
   },
   "outputs": [
    {
     "name": "stdout",
     "output_type": "stream",
     "text": [
      "1. <Q: 0.7071*[0; 0; 0; 1] + 0.7071*[1; 0; 0; 0]>\n",
      "\n",
      "2. <Q: 0.7071*[1; 0; 0; 0] + 0.7071*[0; 0; 0; -1]>\n",
      "\n",
      "3. Alice sends her qubit to Bob.\n",
      "\n",
      "4. <Q: 0.7071*[0; 0; -1; 0] + 0.7071*[1; 0; 0; 0]>\n",
      "\n",
      "5. <Q: 0.7071*[-0.7071; 0; 0.7071; 0] + 0.7071*[0.7071; 0; 0.7071; 0]>\n"
     ]
    }
   ],
   "source": [
    "# 1. start with an entangled pair. Alice owns qubit 0 and Bob owns qubit 1\n",
    "state = get_entangled_pair()\n",
    "print \"1.\", state\n",
    "\n",
    "# 2. Alice wants to send ab = 10\n",
    "# Since a = 1, Alice applies Z to her qubit.\n",
    "alice_z = gate(2, Z, 0)\n",
    "state = state.apply_gate(alice_z)\n",
    "# If b = 1, Alice would apply X to her qubit.\n",
    "print \"\\n2.\", state\n",
    "\n",
    "# 3. Alice sends her qubit to Bob.\n",
    "print \"\\n3. Alice sends her qubit to Bob.\"\n",
    "\n",
    "# 4. Bob applies CNOT with Alice's qubit as control.\n",
    "state = state.apply_gate(cnot_10)  # 2 qubit gate, qubit 0 is control, qubit 1 is target\n",
    "print \"\\n4.\", state\n",
    "\n",
    "# 5. Bob applies H to Alice's qubit.\n",
    "alice_h = gate(2, H, 0)\n",
    "state = state.apply_gate(alice_h)\n",
    "print \"\\n5.\", state\n",
    "\n",
    "# 6. Bob measures the qubits to get message ab.\n",
    "#state"
   ]
  }
 ],
 "metadata": {
  "kernelspec": {
   "display_name": "Python 2",
   "language": "python",
   "name": "python2"
  },
  "language_info": {
   "codemirror_mode": {
    "name": "ipython",
    "version": 2
   },
   "file_extension": ".py",
   "mimetype": "text/x-python",
   "name": "python",
   "nbconvert_exporter": "python",
   "pygments_lexer": "ipython2",
   "version": "2.7.10"
  }
 },
 "nbformat": 4,
 "nbformat_minor": 0
}

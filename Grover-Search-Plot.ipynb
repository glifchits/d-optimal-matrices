{
 "cells": [
  {
   "cell_type": "markdown",
   "metadata": {},
   "source": [
    "# Grover's Search Algorithm\n",
    "\n",
    "We want to find a specific item in an unsorted list of $m = 2^n$ items.\n",
    "\n",
    "Define $f(x) = 1$ `if` $x = x_0$ `else` 0"
   ]
  },
  {
   "cell_type": "code",
   "execution_count": 1,
   "metadata": {
    "collapsed": false
   },
   "outputs": [],
   "source": [
    "import matplotlib\n",
    "import matplotlib.pyplot as plt\n",
    "%matplotlib inline\n",
    "%config InlineBackend.figure_formats = {'png', 'retina'}\n",
    "\n",
    "from quantum import *\n",
    "from math import log, ceil, floor\n",
    "import random"
   ]
  },
  {
   "cell_type": "code",
   "execution_count": 2,
   "metadata": {
    "collapsed": false
   },
   "outputs": [
    {
     "name": "stdout",
     "output_type": "stream",
     "text": [
      "target: 220 (bin = 11011100)\n",
      "qubits needed 8\n",
      "search space: 256\n",
      "optimal iterations: 12.566370614359172\n",
      "\n",
      "performed 12 iterations\n",
      "measured 220\n",
      "probability of measuring target is 99.99470%\n"
     ]
    },
    {
     "data": {
      "image/png": "[encoded data removed]",
      "text/plain": [
       "<matplotlib.figure.Figure at 0x1099515f8>"
      ]
     },
     "metadata": {
      "image/png": {
       "height": 255,
       "width": 373
      }
     },
     "output_type": "display_data"
    }
   ],
   "source": [
    "def grovers_plot(target=5, iterations=100):\n",
    "    def func(x):\n",
    "        return 1 if x == target else 0\n",
    "\n",
    "    # We define n as the least number of bits needed to represent the target number.\n",
    "    n = ceil(log(target, 2))\n",
    "    # m is the number of items in the \"database\"\n",
    "    m = 2 ** n\n",
    "\n",
    "    # input: |00...0> (length n)\n",
    "    # output: |0>\n",
    "    state = Q(kron(*(zero for _ in range(n)), zero))\n",
    "\n",
    "    # Apply HX to the output register.\n",
    "    state = state.apply_gate(X, 0)\n",
    "    state = state.apply_gate(H, 0)\n",
    "\n",
    "    # Apply H^n to the input register.\n",
    "    # input register: qubits 1 to n\n",
    "    for i in range(1, n+1):\n",
    "        state = state.apply_gate(H, i)\n",
    "\n",
    "    # Now we enter the important Grover iteration. This is comprised of two steps:\n",
    "    # 1.  Apply f(x)\n",
    "    # 2.  Apply the diffusion operator (inversion about the mean)\n",
    "\n",
    "    # First, we'll compute the diffusion operator.\n",
    "    N = m\n",
    "    # this definition of D (the diffusion matrix aka. inversion about the mean)\n",
    "    # is given in Grover's original paper\n",
    "    P = 1/N * np.ones((N,N))\n",
    "    D = -np.eye(N) + 2*P\n",
    "    # I assume we leave the output register untouched (hence the final I)\n",
    "    D = kron(D, I)\n",
    "    \n",
    "    y_data = [0]\n",
    "\n",
    "    # Now we perform the Grover iteration.\n",
    "    # Should be (pi/4)*sqrt(N) iterations (Mermin, chapter 4)\n",
    "    for iteration in range(iterations):\n",
    "        state = state.apply_func(func)\n",
    "        state = state.apply_unitary(D)\n",
    "        amplitudes = to_row(state.state)\n",
    "        probs = [(abs(a) ** 2).real for a in amplitudes]\n",
    "        target_prob = sum(p for idx, p in enumerate(probs) if (idx >> 1) == target)\n",
    "        y_data.append(target_prob)\n",
    "    \n",
    "    print('\\nperformed {} iterations'.format(iterations))\n",
    "    print('measured', state.measure()>>1)\n",
    "    print('probability of measuring target is {:.5f}%'.format(100*y_data[-1]))\n",
    "    \n",
    "    plt.plot(range(iterations+1), y_data)\n",
    "    plt.xlim(0, iterations)\n",
    "    \n",
    "target = 220\n",
    "qubits = ceil(log(target, 2))\n",
    "space_size = 2 ** qubits\n",
    "iters = (np.pi/4) * sqrt(space_size).real\n",
    "print('target: {0} (bin = {0:b})'.format(target))\n",
    "print('qubits needed', qubits)\n",
    "print('search space:', space_size)\n",
    "print('optimal iterations:', iters)\n",
    "grovers_plot(target=target, iterations=floor(iters))"
   ]
  }
 ],
 "metadata": {
  "kernelspec": {
   "display_name": "Python 3",
   "language": "python",
   "name": "python3"
  },
  "language_info": {
   "codemirror_mode": {
    "name": "ipython",
    "version": 3
   },
   "file_extension": ".py",
   "mimetype": "text/x-python",
   "name": "python",
   "nbconvert_exporter": "python",
   "pygments_lexer": "ipython3",
   "version": "3.5.0"
  }
 },
 "nbformat": 4,
 "nbformat_minor": 0
}

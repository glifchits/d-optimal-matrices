{
 "cells": [
  {
   "cell_type": "markdown",
   "metadata": {},
   "source": [
    "# Grover's Search Algorithm\n",
    "\n",
    "We want to find a specific item in an unsorted list of $m = 2^n$ items.\n",
    "\n",
    "Define $f(x) = 1$ `if` $x = x_0$ `else` 0"
   ]
  },
  {
   "cell_type": "code",
   "execution_count": 1,
   "metadata": {
    "collapsed": true
   },
   "outputs": [],
   "source": [
    "from quantum import *\n",
    "from math import log, ceil\n",
    "\n",
    "TARGET = 0b101\n",
    "\n",
    "def func(x):\n",
    "    return 1 if x == TARGET else 0"
   ]
  },
  {
   "cell_type": "markdown",
   "metadata": {},
   "source": [
    "The input register is $n$-qubits: $\\left|00...0\\right\\rangle$\n",
    "\n",
    "The output register is $\\left|0\\right\\rangle$"
   ]
  },
  {
   "cell_type": "code",
   "execution_count": 2,
   "metadata": {
    "collapsed": false
   },
   "outputs": [
    {
     "name": "stdout",
     "output_type": "stream",
     "text": [
      "[[1]\n",
      " [0]\n",
      " [0]\n",
      " [0]\n",
      " [0]\n",
      " [0]\n",
      " [0]\n",
      " [0]\n",
      " [0]\n",
      " [0]\n",
      " [0]\n",
      " [0]\n",
      " [0]\n",
      " [0]\n",
      " [0]\n",
      " [0]]\n"
     ]
    }
   ],
   "source": [
    "n = ceil(log(TARGET, 2))\n",
    "m = 2 ** n\n",
    "\n",
    "state = Q(kron(*(zero for _ in range(n)), zero))\n",
    "print(state)"
   ]
  },
  {
   "cell_type": "markdown",
   "metadata": {},
   "source": [
    "Apply `HX` to the output register."
   ]
  },
  {
   "cell_type": "code",
   "execution_count": 3,
   "metadata": {
    "collapsed": false
   },
   "outputs": [
    {
     "name": "stdout",
     "output_type": "stream",
     "text": [
      "[[ 0.70710678+0.j]\n",
      " [-0.70710678+0.j]\n",
      " [ 0.00000000+0.j]\n",
      " [ 0.00000000+0.j]\n",
      " [ 0.00000000+0.j]\n",
      " [ 0.00000000+0.j]\n",
      " [ 0.00000000+0.j]\n",
      " [ 0.00000000+0.j]\n",
      " [ 0.00000000+0.j]\n",
      " [ 0.00000000+0.j]\n",
      " [ 0.00000000+0.j]\n",
      " [ 0.00000000+0.j]\n",
      " [ 0.00000000+0.j]\n",
      " [ 0.00000000+0.j]\n",
      " [ 0.00000000+0.j]\n",
      " [ 0.00000000+0.j]]\n"
     ]
    }
   ],
   "source": [
    "state = state.apply_gate(X, 0)\n",
    "state = state.apply_gate(H, 0)\n",
    "print(state)"
   ]
  },
  {
   "cell_type": "markdown",
   "metadata": {},
   "source": [
    "Apply `H`$^{\\otimes n}$ to the input register."
   ]
  },
  {
   "cell_type": "code",
   "execution_count": 4,
   "metadata": {
    "collapsed": false
   },
   "outputs": [
    {
     "name": "stdout",
     "output_type": "stream",
     "text": [
      "[[ 0.25+0.j]\n",
      " [-0.25+0.j]\n",
      " [ 0.25+0.j]\n",
      " [-0.25+0.j]\n",
      " [ 0.25+0.j]\n",
      " [-0.25+0.j]\n",
      " [ 0.25+0.j]\n",
      " [-0.25+0.j]\n",
      " [ 0.25+0.j]\n",
      " [-0.25+0.j]\n",
      " [ 0.25+0.j]\n",
      " [-0.25+0.j]\n",
      " [ 0.25+0.j]\n",
      " [-0.25+0.j]\n",
      " [ 0.25+0.j]\n",
      " [-0.25+0.j]]\n"
     ]
    }
   ],
   "source": [
    "# input register: qubits 1 to n\n",
    "#input_hadamard = kron(*(I if q == 0 else H for q in reversed(range(n+1))))\n",
    "#state = state.apply_unitary(input_hadamard)\n",
    "for i in range(1, n+1):\n",
    "    state = state.apply_gate(H, i)\n",
    "print(state)"
   ]
  },
  {
   "cell_type": "markdown",
   "metadata": {},
   "source": [
    "Apply $f(x)$."
   ]
  },
  {
   "cell_type": "code",
   "execution_count": 5,
   "metadata": {
    "collapsed": false
   },
   "outputs": [
    {
     "name": "stdout",
     "output_type": "stream",
     "text": [
      "[[ 0.25+0.j]\n",
      " [-0.25+0.j]\n",
      " [ 0.25+0.j]\n",
      " [-0.25+0.j]\n",
      " [ 0.25+0.j]\n",
      " [-0.25+0.j]\n",
      " [ 0.25+0.j]\n",
      " [-0.25+0.j]\n",
      " [ 0.25+0.j]\n",
      " [-0.25+0.j]\n",
      " [-0.25+0.j]\n",
      " [ 0.25+0.j]\n",
      " [ 0.25+0.j]\n",
      " [-0.25+0.j]\n",
      " [ 0.25+0.j]\n",
      " [-0.25+0.j]]\n"
     ]
    }
   ],
   "source": [
    "state = state.apply_func(func)\n",
    "print(state)"
   ]
  },
  {
   "cell_type": "markdown",
   "metadata": {},
   "source": [
    "Apply inversion about the mean."
   ]
  },
  {
   "cell_type": "code",
   "execution_count": 6,
   "metadata": {
    "collapsed": false
   },
   "outputs": [
    {
     "name": "stdout",
     "output_type": "stream",
     "text": [
      "[[ 0.125+0.j]\n",
      " [-0.125+0.j]\n",
      " [ 0.125+0.j]\n",
      " [-0.125+0.j]\n",
      " [ 0.125+0.j]\n",
      " [-0.125+0.j]\n",
      " [ 0.125+0.j]\n",
      " [-0.125+0.j]\n",
      " [ 0.125+0.j]\n",
      " [-0.125+0.j]\n",
      " [ 0.625+0.j]\n",
      " [-0.625+0.j]\n",
      " [ 0.125+0.j]\n",
      " [-0.125+0.j]\n",
      " [ 0.125+0.j]\n",
      " [-0.125+0.j]]\n"
     ]
    }
   ],
   "source": [
    "N = m\n",
    "# this definition of D (the diffusion matrix aka. inversion about the mean)\n",
    "# is given in Grover's original paper\n",
    "P = 1/N * np.ones((N,N))\n",
    "D = -np.eye(N) + 2*P\n",
    "# I assume we leave the output register untouched (hence the final I)\n",
    "D = kron(D, I)\n",
    "state = state.apply_unitary(D)\n",
    "print(state)"
   ]
  },
  {
   "cell_type": "code",
   "execution_count": 7,
   "metadata": {
    "collapsed": false
   },
   "outputs": [
    {
     "name": "stdout",
     "output_type": "stream",
     "text": [
      "[[ 0.08375616+0.j]\n",
      " [-0.08375616+0.j]\n",
      " [ 0.08375616+0.j]\n",
      " [-0.08375616+0.j]\n",
      " [ 0.08375616+0.j]\n",
      " [-0.08375616+0.j]\n",
      " [ 0.08375616+0.j]\n",
      " [-0.08375616+0.j]\n",
      " [ 0.08375616+0.j]\n",
      " [-0.08375616+0.j]\n",
      " [ 0.67148666+0.j]\n",
      " [-0.67148666+0.j]\n",
      " [ 0.08375616+0.j]\n",
      " [-0.08375616+0.j]\n",
      " [ 0.08375616+0.j]\n",
      " [-0.08375616+0.j]]\n"
     ]
    }
   ],
   "source": [
    "ITERATIONS = 1000\n",
    "for iteration in range(ITERATIONS):\n",
    "    state = state.apply_func(func)\n",
    "    state = state.apply_unitary(D)\n",
    "print(state)"
   ]
  },
  {
   "cell_type": "code",
   "execution_count": 8,
   "metadata": {
    "collapsed": false
   },
   "outputs": [
    {
     "name": "stdout",
     "output_type": "stream",
     "text": [
      "Measured  0 0000 ( 1.52%)\n",
      "Measured  1 0001 ( 1.27%)\n",
      "Measured  2 0010 ( 1.27%)\n",
      "Measured  3 0011 ( 1.30%)\n",
      "Measured  4 0100 ( 1.27%)\n",
      "Measured  5 0101 (90.28%)\n",
      "Measured  6 0110 ( 1.40%)\n",
      "Measured  7 0111 ( 1.68%)\n"
     ]
    }
   ],
   "source": [
    "TRIALS = 4000\n",
    "outcomes = {}\n",
    "for trial in range(TRIALS):\n",
    "    measurement = state.measure() >> 1 # measure state and chop off the output register\n",
    "    outcomes[measurement] = outcomes.get(measurement, 0) + 1\n",
    "    \n",
    "qubits = state.num_qubits\n",
    "for outcome in sorted(outcomes.keys()):\n",
    "    occurrences = outcomes[outcome]\n",
    "    rate = 100 * occurrences / TRIALS\n",
    "    print(\"Measured {outcome:2} {outcome:0{width}b} ({rate:5.2f}%)\".format(outcome=outcome, width=qubits, rate=rate))"
   ]
  }
 ],
 "metadata": {
  "kernelspec": {
   "display_name": "Python 3",
   "language": "python",
   "name": "python3"
  },
  "language_info": {
   "codemirror_mode": {
    "name": "ipython",
    "version": 3
   },
   "file_extension": ".py",
   "mimetype": "text/x-python",
   "name": "python",
   "nbconvert_exporter": "python",
   "pygments_lexer": "ipython3",
   "version": "3.5.0"
  }
 },
 "nbformat": 4,
 "nbformat_minor": 0
}

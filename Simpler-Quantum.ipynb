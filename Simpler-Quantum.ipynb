{
 "cells": [
  {
   "cell_type": "code",
   "execution_count": 84,
   "metadata": {
    "collapsed": true
   },
   "outputs": [],
   "source": [
    "import numpy as np\n",
    "import random\n",
    "from cmath import sqrt"
   ]
  },
  {
   "cell_type": "code",
   "execution_count": 5,
   "metadata": {
    "collapsed": true
   },
   "outputs": [],
   "source": [
    "zero = np.matrix('1;0')\n",
    "one = np.matrix('0;1')"
   ]
  },
  {
   "cell_type": "code",
   "execution_count": 6,
   "metadata": {
    "collapsed": true
   },
   "outputs": [],
   "source": [
    "def kron(*matrices):\n",
    "    assert len(matrices) > 0, \"Cannot perform Kronecker product on no matrices\"\n",
    "    return reduce(np.kron, matrices[1:], matrices[0])"
   ]
  },
  {
   "cell_type": "code",
   "execution_count": 91,
   "metadata": {
    "collapsed": false,
    "scrolled": true
   },
   "outputs": [],
   "source": [
    "class Q(object):\n",
    "\n",
    "    def __init__(self, state):\n",
    "        state_as_row = state.flatten().tolist()[0]\n",
    "        sq_mag = sum(a**2 for a in state_as_row)\n",
    "        assert abs(1-sq_mag) < 0.00001, \"Squared magnitudes must sum to 1\"\n",
    "        self.state = state\n",
    "\n",
    "    def __add__(self, other):\n",
    "        new_state = self.state + other.state\n",
    "        as_row = new_state.flatten().tolist()[0]\n",
    "        norm_factor = sum(p**2 for p in as_row)\n",
    "        norm_new_state = 1/norm_factor * new_state\n",
    "        return Q(norm_new_state)\n",
    "    \n",
    "    def apply_gate(self, gate):\n",
    "        new_state = gate * self.state\n",
    "        as_row = new_state.flatten().tolist()[0]\n",
    "        norm_factor = sum(p**2 for p in as_row)\n",
    "        norm_new_state = 1/norm_factor * new_state\n",
    "        return Q(norm_new_state)\n",
    "    \n",
    "    def measure(self):\n",
    "        amplitudes = self.state.flatten().tolist()[0]\n",
    "        probabilities = ((a**2).real for a in amplitudes)\n",
    "        cumul = 0\n",
    "        rand = random.random()\n",
    "        for idx, pdensity in enumerate(probabilities):\n",
    "            cumul += pdensity\n",
    "            if rand <= pdensity:\n",
    "                return bin(idx)\n",
    "    \n",
    "    def __repr__(self):\n",
    "        return str(self.state)"
   ]
  },
  {
   "cell_type": "code",
   "execution_count": 35,
   "metadata": {
    "collapsed": true
   },
   "outputs": [],
   "source": [
    "I = np.eye(2)\n",
    "X = np.matrix('0 1; 1 0')\n",
    "Z = np.matrix('1 0; 0 -1')\n",
    "H = 1/sqrt(2) * (X + Z)\n",
    "\n",
    "cnot_10 = np.matrix('1 0 0 0; 0 1 0 0; 0 0 0 1; 0 0 1 0')\n",
    "cnot_01 = np.matrix('1 0 0 0; 0 0 0 1; 0 0 1 0; 0 1 0 0')\n",
    "\n",
    "def get_entangled_pair():\n",
    "    state = 1/sqrt(2) * (kron(zero, zero) + kron(one, one))\n",
    "    return Q(state)\n",
    "\n",
    "def gate(qubits, unitary, qidx):\n",
    "    gate_seq = (unitary if idx == qidx else I for idx in range(qubits))\n",
    "    return kron(*gate_seq)"
   ]
  },
  {
   "cell_type": "code",
   "execution_count": 99,
   "metadata": {
    "collapsed": false,
    "scrolled": false
   },
   "outputs": [
    {
     "name": "stdout",
     "output_type": "stream",
     "text": [
      "1. start with an entangled pair.\n",
      "\n",
      "2. Alice wants to send ab = 10\n",
      "\n",
      "4. Bob applies CNOT with Alice's qubit as control.\n",
      "\n",
      "5. Bob applies H to Alice's qubit.\n",
      "[[ 0.+0.j]\n",
      " [ 0.+0.j]\n",
      " [ 1.+0.j]\n",
      " [ 0.+0.j]]\n",
      "\n",
      "6. Bob measures the qubits to get message ab.\n",
      "0b10\n"
     ]
    }
   ],
   "source": [
    "# 1. start with an entangled pair. Alice owns qubit 0 and Bob owns qubit 1\n",
    "state = get_entangled_pair()\n",
    "print \"1. start with an entangled pair.\"\n",
    "#print state\n",
    "\n",
    "# 2. Alice wants to send ab = 10\n",
    "a, b = 1, 0\n",
    "\n",
    "# If a = 1, Alice applies Z to her qubit.\n",
    "if a == 1:\n",
    "    state = state.apply_gate(gate(2, Z, 0))\n",
    "# If b = 1, Alice applies X to her qubit.\n",
    "if b == 1:\n",
    "    state = state.apply_gate(gate(2, X, 0))\n",
    "print \"\\n2. Alice wants to send ab = {:}{:}\".format(a,b)\n",
    "#print state\n",
    "\n",
    "# 3. Alice sends her qubit to Bob.\n",
    "#print \"\\n3. Alice sends her qubit to Bob.\"\n",
    "\n",
    "# 4. Bob applies CNOT with Alice's qubit as control.\n",
    "# 2 qubit gate, qubit 0 is control, qubit 1 is target\n",
    "state = state.apply_gate(cnot_10)\n",
    "print \"\\n4. Bob applies CNOT with Alice's qubit as control.\"\n",
    "#print state\n",
    "\n",
    "# 5. Bob applies H to Alice's qubit.\n",
    "alice_h = gate(2, H, 0)\n",
    "state = state.apply_gate(alice_h)\n",
    "print \"\\n5. Bob applies H to Alice's qubit.\"\n",
    "print state\n",
    "\n",
    "# 6. Bob measures the qubits to get message ab.\n",
    "print \"\\n6. Bob measures the qubits to get message ab.\"\n",
    "measured = state.measure()\n",
    "print measured"
   ]
  },
  {
   "cell_type": "code",
   "execution_count": 90,
   "metadata": {
    "collapsed": false
   },
   "outputs": [
    {
     "data": {
      "text/plain": [
       "2"
      ]
     },
     "execution_count": 90,
     "metadata": {},
     "output_type": "execute_result"
    }
   ],
   "source": [
    "probs = np.matrix([[ 0.70710678+0.j],\n",
    " [ 0.00000000+0.j],\n",
    " [-0.70710678+0.j],\n",
    " [ 0.00000000+0.j]]\n",
    ")\n",
    "\n",
    "probs = probs.flatten().tolist()[0]\n",
    "pdf = [(p**2).real for p in probs]\n",
    "\n",
    "class Range(object):\n",
    "    \n",
    "    def __init__(self, lower, upper):\n",
    "        self.lower = lower\n",
    "        self.upper = upper\n",
    "        \n",
    "    def __contains__(self, val):\n",
    "        if self.lower == self.upper: return False\n",
    "        return val >= self.lower and val <= self.upper\n",
    "    \n",
    "    def __repr__(self):\n",
    "        digits = 3\n",
    "        fmt = \"<Range: {:.%sf}-{:.%sf}>\" % (digits, digits)\n",
    "        return fmt.format(self.lower, self.upper)\n",
    "\n",
    "    \n",
    "def compute_cdf(pdf):\n",
    "    cumul = 0\n",
    "    cdf = []\n",
    "    for interval_upper_bound in pdf:\n",
    "        cdf.append(Range(cumul, cumul + interval_upper_bound))\n",
    "        cumul += interval_upper_bound\n",
    "    return cdf\n",
    "\n",
    "import random\n",
    "\n",
    "def select_random(pdf):\n",
    "    cdf = compute_cdf(pdf)\n",
    "    rand = random.random()\n",
    "    for idx, rng in enumerate(cdf):\n",
    "        if rand in rng:\n",
    "            return idx\n",
    "\n",
    "select_random(pdf)"
   ]
  }
 ],
 "metadata": {
  "kernelspec": {
   "display_name": "Python 2",
   "language": "python",
   "name": "python2"
  },
  "language_info": {
   "codemirror_mode": {
    "name": "ipython",
    "version": 2
   },
   "file_extension": ".py",
   "mimetype": "text/x-python",
   "name": "python",
   "nbconvert_exporter": "python",
   "pygments_lexer": "ipython2",
   "version": "2.7.10"
  }
 },
 "nbformat": 4,
 "nbformat_minor": 0
}
